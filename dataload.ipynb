{
  "nbformat": 4,
  "nbformat_minor": 0,
  "metadata": {
    "colab": {
      "name": "Untitled5.ipynb",
      "provenance": [],
      "private_outputs": true,
      "collapsed_sections": [],
      "mount_file_id": "1szHXahP1Hcx4Zj45rJrxLclcmr8H0j9H",
      "authorship_tag": "ABX9TyOk4pUzxDXVxU7XhObLMJV1",
      "include_colab_link": true
    },
    "kernelspec": {
      "name": "python3",
      "display_name": "Python 3"
    }
  },
  "cells": [
    {
      "cell_type": "markdown",
      "metadata": {
        "id": "view-in-github",
        "colab_type": "text"
      },
      "source": [
        "<a href=\"https://colab.research.google.com/github/Badaralam/trafficeflow_RNN/blob/master/dataload.ipynb\" target=\"_parent\"><img src=\"https://colab.research.google.com/assets/colab-badge.svg\" alt=\"Open In Colab\"/></a>"
      ]
    },
    {
      "cell_type": "code",
      "metadata": {
        "id": "V0-2qj1Zyqe3",
        "colab_type": "code",
        "colab": {}
      },
      "source": [
        "from google.colab import drive\n",
        "drive.mount('/content/drive')"
      ],
      "execution_count": 0,
      "outputs": []
    },
    {
      "cell_type": "code",
      "metadata": {
        "id": "wukypTH50obe",
        "colab_type": "code",
        "colab": {}
      },
      "source": [
        "from csv import reader\n",
        "\n",
        "# Load a CSV file\n",
        "def load_csv(filename):\n",
        "\tfile = open(filename, \"r\")\n",
        "\tlines = reader(file)\n",
        "\tdataset = list(lines)\n",
        "\treturn dataset"
      ],
      "execution_count": 0,
      "outputs": []
    },
    {
      "cell_type": "code",
      "metadata": {
        "id": "NSkjp2sezJAI",
        "colab_type": "code",
        "colab": {}
      },
      "source": [
        "\n",
        "import pandas as pd\n",
        "\n",
        "test_data = pd.read_csv (r'/content/drive/My Drive/dataPEMS/dataPEMS/PEMS_test.csv')  \n",
        " #read the csv file (put 'r' before the path string to address any special characters in the path, such as '\\'). Don't forget to put the file name at the end of the path + \".csv\"\n",
        "\n",
        "# Load dataset\n",
        "filename = '/content/drive/My Drive/dataPEMS/dataPEMS/randperm.csv'\n",
        "randperm = load_csv(filename)\n",
        "filename2=\"/content/drive/My Drive/dataPEMS/dataPEMS/PEMS_testlabels.csv\"\n",
        "PEMS_testlabels = load_csv(filename2)\n",
        "filename3='/content/drive/My Drive/dataPEMS/dataPEMS/PEMS_trainlabels.csv'\n",
        "PEMS_trainlabels=load_csv(filename3)\n",
        "filename4='/content/drive/My Drive/dataPEMS/dataPEMS/stations_list.csv'\n",
        "stations_list=load_csv(filename4)\n",
        "#filename5='/content/drive/My Drive/dataPEMS/dataPEMS/PEMS_test.csv'\n",
        "\n",
        "\n",
        "\n",
        "\n",
        "\n"
      ],
      "execution_count": 0,
      "outputs": []
    },
    {
      "cell_type": "code",
      "metadata": {
        "id": "9gKd8AiRtBdM",
        "colab_type": "code",
        "colab": {}
      },
      "source": [
        "print('Stations_list',stations_list)\n",
        "print('Trainlabels',PEMS_trainlabels)\n",
        "print('Randperm',randperm)\n",
        "print('Testlabels',PEMS_testlabels)"
      ],
      "execution_count": 0,
      "outputs": []
    },
    {
      "cell_type": "code",
      "metadata": {
        "id": "p-TvPoQKkoV9",
        "colab_type": "code",
        "colab": {}
      },
      "source": [
        "# Load CSV using Pandas\n",
        "import pandas\n",
        "filename = '/content/drive/My Drive/dataPEMS/dataPEMS/PEMS_test.csv'\n",
        "names = ['preg', 'plas', 'pres', 'skin', 'test', 'mass', 'pedi', 'age', 'class']\n",
        "data = pandas.read_csv(filename, names=names)\n",
        "print(data)"
      ],
      "execution_count": 0,
      "outputs": []
    },
    {
      "cell_type": "markdown",
      "metadata": {
        "id": "jnUjXyWUWZr-",
        "colab_type": "text"
      },
      "source": [
        "# New Section"
      ]
    }
  ]
}